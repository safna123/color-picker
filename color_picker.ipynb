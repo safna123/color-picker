{
  "nbformat": 4,
  "nbformat_minor": 0,
  "metadata": {
    "colab": {
      "name": "color picker",
      "provenance": [],
      "collapsed_sections": [],
      "authorship_tag": "ABX9TyMTc7QP2MFBfC/YX/If7kZZ",
      "include_colab_link": true
    },
    "kernelspec": {
      "name": "python3",
      "display_name": "Python 3"
    }
  },
  "cells": [
    {
      "cell_type": "markdown",
      "metadata": {
        "id": "view-in-github",
        "colab_type": "text"
      },
      "source": [
        "<a href=\"https://colab.research.google.com/github/safna123/color-picker/blob/main/color_picker.ipynb\" target=\"_parent\"><img src=\"https://colab.research.google.com/assets/colab-badge.svg\" alt=\"Open In Colab\"/></a>"
      ]
    },
    {
      "cell_type": "code",
      "metadata": {
        "colab": {
          "base_uri": "https://localhost:8080/"
        },
        "id": "_fAABmxDzNqW",
        "outputId": "531ebf30-558c-4bf4-bd17-1cf74abce513"
      },
      "source": [
        "colors = [\"red\",\"blue\",\"violet\",\"black\",\"yellow\",\"white\",\"purple\"]\r\n",
        "import random\r\n",
        "random_colors = random.choice(colors)\r\n",
        "while True:\r\n",
        "  guess = input(\"Pick a color: \")\r\n",
        "  while True:\r\n",
        "    if(guess.lower() == random_colors):\r\n",
        "      break\r\n",
        "    else:\r\n",
        "      guess = input(\"Nope! Try again: \")\r\n",
        "  print(\"You aced it\", random_colors)\r\n",
        "  play_again = input(\"Do you want to play again.Type 'no' to quit: \")\r\n",
        "  if(play_again.lower() == 'no'):\r\n",
        "    break\r\n",
        "print(\"It was fun playing with you :)\")\r\n",
        "\r\n",
        "  \r\n",
        "    \r\n"
      ],
      "execution_count": null,
      "outputs": [
        {
          "output_type": "stream",
          "text": [
            "Pick a color: red\n",
            "Nope! Try again: violet\n",
            "Nope! Try again: yellow\n",
            "Nope! Try again: white\n",
            "Nope! Try again: purple\n",
            "Nope! Try again: blue\n",
            "You aced it blue\n",
            "Do you want to play again.Type 'no' to quit: no\n",
            "It was fun playing with you :)\n"
          ],
          "name": "stdout"
        }
      ]
    }
  ]
}